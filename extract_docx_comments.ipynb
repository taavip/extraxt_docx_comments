{
  "nbformat": 4,
  "nbformat_minor": 0,
  "metadata": {
    "colab": {
      "provenance": [],
      "authorship_tag": "ABX9TyOv+6SsIFbxkVuzeem5jhk3",
      "include_colab_link": true
    },
    "kernelspec": {
      "name": "python3",
      "display_name": "Python 3"
    },
    "language_info": {
      "name": "python"
    }
  },
  "cells": [
    {
      "cell_type": "markdown",
      "metadata": {
        "id": "view-in-github",
        "colab_type": "text"
      },
      "source": [
        "<a href=\"https://colab.research.google.com/github/taavip/extraxt_docx_comments/blob/main/extract_docx_comments.ipynb\" target=\"_parent\"><img src=\"https://colab.research.google.com/assets/colab-badge.svg\" alt=\"Open In Colab\"/></a>"
      ]
    },
    {
      "cell_type": "code",
      "execution_count": null,
      "metadata": {
        "id": "efwamSq12YHs"
      },
      "outputs": [],
      "source": [
        "import zipfile\n",
        "from lxml import etree\n",
        "import pandas as pd\n",
        "import io\n",
        "from io import BytesIO\n",
        "from google.colab import files\n",
        "\n",
        "!pip install xlsxwriter\n",
        "\n",
        "ooXMLns = {'w': 'http://schemas.openxmlformats.org/wordprocessingml/2006/main'}\n",
        "\n",
        "def get_comments(docxFileBytes):\n",
        "    docxZip = zipfile.ZipFile(BytesIO(docxFileBytes))\n",
        "\n",
        "    try:\n",
        "        commentsXML = docxZip.read('word/comments.xml')\n",
        "    except KeyError:\n",
        "        print(\"No comments found\")\n",
        "        return None\n",
        "\n",
        "    et = etree.XML(commentsXML)\n",
        "    comments = et.xpath('//w:comment', namespaces=ooXMLns)\n",
        "    \n",
        "    try:\n",
        "        documentXML = docxZip.read('word/document.xml')\n",
        "    except KeyError:\n",
        "        print(\"No document found\")\n",
        "        return None\n",
        "\n",
        "    et = etree.XML(documentXML)\n",
        "    comment_data = []\n",
        "    \n",
        "    for c in comments:\n",
        "        # Extract the comment text, author, date, and commented text\n",
        "        text = c.xpath('string(.)', namespaces=ooXMLns)\n",
        "        author = c.xpath('@w:author', namespaces=ooXMLns)[0]\n",
        "        date = pd.to_datetime(c.xpath('@w:date', namespaces=ooXMLns)[0], utc=True).tz_localize(None)\n",
        "        comment_id = c.xpath('@w:id', namespaces=ooXMLns)[0]\n",
        "        comment_start = et.xpath(f'//w:commentRangeStart[@w:id=\"{comment_id}\"]', namespaces=ooXMLns)[0]\n",
        "        comment_end = et.xpath(f'//w:commentRangeEnd[@w:id=\"{comment_id}\"]', namespaces=ooXMLns)[0]\n",
        "        comment_text = ''.join([node.xpath('string(.)') for node in et.iter() if (node is comment_start or node is comment_end) or (node.getparent() is comment_start.getparent() and node.getnext() is comment_end)])\n",
        "        \n",
        "        # Add the comment data to a list\n",
        "        comment_data.append({'Comment ID': comment_id, 'Commented Text': comment_text, 'Comment': text, 'Author': author, 'Date': date})\n",
        "    \n",
        "    # Create a Pandas DataFrame from the comment data and return it\n",
        "    df = pd.DataFrame(comment_data, columns=['Comment ID', 'Commented Text', 'Comment', 'Author', 'Date'])\n",
        "    return df\n",
        "\n",
        "\n",
        "\n",
        "# Test the function with a sample document\n",
        "uploaded = files.upload()\n",
        "\n",
        "for filename, filebytes in uploaded.items():\n",
        "    comments_df = get_comments(filebytes)\n",
        "    if comments_df is not None:\n",
        "        print(comments_df.head())\n",
        "\n",
        "        # Save the DataFrame to an Excel file with a specific date format in the same directory as the original document\n",
        "        output_file = filename.replace('.docx', '_comments.xlsx')\n",
        "        with pd.ExcelWriter(output_file, engine='xlsxwriter') as writer:\n",
        "            comments_df.to_excel(writer, index=False, sheet_name='Comments')\n",
        "            workbook = writer.book\n",
        "            worksheet = writer.sheets['Comments']\n",
        "            date_format = workbook.add_format({'num_format': 'dd/mm/yyyy hh:mm:ss'})\n",
        "            worksheet.set_column('E:E', None, date_format)\n",
        "\n",
        "        print(f\"Comments saved to '{output_file}'\")\n",
        "\n",
        "        # Download the generated Excel file\n",
        "        files.download(output_file)\n"
      ]
    },
    {
      "cell_type": "code",
      "source": [],
      "metadata": {
        "id": "n5POCuM52ejZ"
      },
      "execution_count": null,
      "outputs": []
    }
  ]
}